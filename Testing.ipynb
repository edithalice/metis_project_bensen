{
 "cells": [
  {
   "cell_type": "code",
   "execution_count": 2,
   "metadata": {},
   "outputs": [
    {
     "name": "stdout",
     "output_type": "stream",
     "text": [
      "            DATE_TIME   C/A  UNIT       SCP STATION LINENAME DIVISION  \\\n",
      "0 2020-06-20 00:00:00  A002  R051  02-00-00   59 ST  NQR456W      BMT   \n",
      "1 2020-06-20 04:00:00  A002  R051  02-00-00   59 ST  NQR456W      BMT   \n",
      "2 2020-06-20 08:00:00  A002  R051  02-00-00   59 ST  NQR456W      BMT   \n",
      "3 2020-06-20 12:00:00  A002  R051  02-00-00   59 ST  NQR456W      BMT   \n",
      "4 2020-06-20 16:00:00  A002  R051  02-00-00   59 ST  NQR456W      BMT   \n",
      "\n",
      "      DESC  ENTRIES    EXITS        DATE  TUID  BUID  SUID  NET_ENTRIES  \\\n",
      "0  REGULAR  7424218  2522558  2020-06-20     0     0     0          2.0   \n",
      "1  REGULAR  7424220  2522559  2020-06-20     0     0     0         11.0   \n",
      "2  REGULAR  7424231  2522572  2020-06-20     0     0     0         34.0   \n",
      "3  REGULAR  7424265  2522590  2020-06-20     0     0     0         75.0   \n",
      "4  REGULAR  7424340  2522604  2020-06-20     0     0     0         75.0   \n",
      "\n",
      "   NET_EXITS  \n",
      "0        1.0  \n",
      "1       13.0  \n",
      "2       18.0  \n",
      "3       14.0  \n",
      "4        8.0  \n"
     ]
    }
   ],
   "source": [
    "import wrangle_data as wd\n",
    "\n",
    "df = wd.run()\n",
    "print(df.head(5))"
   ]
  },
  {
   "cell_type": "code",
   "execution_count": 3,
   "metadata": {},
   "outputs": [
    {
     "data": {
      "text/plain": [
       "DATE_TIME      datetime64[ns]\n",
       "C/A                    object\n",
       "UNIT                   object\n",
       "SCP                    object\n",
       "STATION                object\n",
       "LINENAME               object\n",
       "DIVISION               object\n",
       "DESC                   object\n",
       "ENTRIES                 int64\n",
       "EXITS                   int64\n",
       "DATE                   object\n",
       "TUID                    int64\n",
       "BUID                    int64\n",
       "SUID                    int64\n",
       "NET_ENTRIES           float64\n",
       "NET_EXITS             float64\n",
       "dtype: object"
      ]
     },
     "execution_count": 3,
     "metadata": {},
     "output_type": "execute_result"
    }
   ],
   "source": [
    "df.dtypes\n"
   ]
  },
  {
   "cell_type": "code",
   "execution_count": 48,
   "metadata": {
    "scrolled": true
   },
   "outputs": [
    {
     "data": {
      "text/html": [
       "<div>\n",
       "<style scoped>\n",
       "    .dataframe tbody tr th:only-of-type {\n",
       "        vertical-align: middle;\n",
       "    }\n",
       "\n",
       "    .dataframe tbody tr th {\n",
       "        vertical-align: top;\n",
       "    }\n",
       "\n",
       "    .dataframe thead th {\n",
       "        text-align: right;\n",
       "    }\n",
       "</style>\n",
       "<table border=\"1\" class=\"dataframe\">\n",
       "  <thead>\n",
       "    <tr style=\"text-align: right;\">\n",
       "      <th></th>\n",
       "      <th>SUID</th>\n",
       "      <th>TS_COUNT</th>\n",
       "    </tr>\n",
       "  </thead>\n",
       "  <tbody>\n",
       "    <tr>\n",
       "      <th>0</th>\n",
       "      <td>0</td>\n",
       "      <td>11</td>\n",
       "    </tr>\n",
       "    <tr>\n",
       "      <th>1</th>\n",
       "      <td>1</td>\n",
       "      <td>14</td>\n",
       "    </tr>\n",
       "    <tr>\n",
       "      <th>2</th>\n",
       "      <td>2</td>\n",
       "      <td>20</td>\n",
       "    </tr>\n",
       "    <tr>\n",
       "      <th>3</th>\n",
       "      <td>3</td>\n",
       "      <td>25</td>\n",
       "    </tr>\n",
       "    <tr>\n",
       "      <th>4</th>\n",
       "      <td>4</td>\n",
       "      <td>8</td>\n",
       "    </tr>\n",
       "  </tbody>\n",
       "</table>\n",
       "</div>"
      ],
      "text/plain": [
       "   SUID  TS_COUNT\n",
       "0     0        11\n",
       "1     1        14\n",
       "2     2        20\n",
       "3     3        25\n",
       "4     4         8"
      ]
     },
     "execution_count": 48,
     "metadata": {},
     "output_type": "execute_result"
    }
   ],
   "source": [
    "df_ss = df.groupby('SUID')['TUID'].nunique().reset_index().rename(columns={'TUID':'TS_COUNT'})\n",
    "df_ss.head()\n",
    "# df_ss.reindex(labels=df_ss['SUID'])\n",
    "# df_ss.head()"
   ]
  },
  {
   "cell_type": "code",
   "execution_count": 42,
   "metadata": {
    "scrolled": true
   },
   "outputs": [],
   "source": [
    "mults = df.groupby('SUID')['TUID'].count()\n"
   ]
  },
  {
   "cell_type": "code",
   "execution_count": 22,
   "metadata": {},
   "outputs": [],
   "source": [
    "import pandas as pd\n",
    "import numpy as np"
   ]
  },
  {
   "cell_type": "code",
   "execution_count": 62,
   "metadata": {},
   "outputs": [
    {
     "ename": "TypeError",
     "evalue": "'numpy.ndarray' object is not callable",
     "output_type": "error",
     "traceback": [
      "\u001b[0;31m---------------------------------------------------------------------------\u001b[0m",
      "\u001b[0;31mTypeError\u001b[0m                                 Traceback (most recent call last)",
      "\u001b[0;32m<ipython-input-62-916b65af0cb6>\u001b[0m in \u001b[0;36m<module>\u001b[0;34m\u001b[0m\n\u001b[0;32m----> 1\u001b[0;31m \u001b[0mdf_ss\u001b[0m\u001b[0;34m.\u001b[0m\u001b[0mloc\u001b[0m\u001b[0;34m(\u001b[0m\u001b[0mdf\u001b[0m\u001b[0;34m[\u001b[0m\u001b[0;34m'SUID'\u001b[0m\u001b[0;34m]\u001b[0m\u001b[0;34m.\u001b[0m\u001b[0mvalues\u001b[0m\u001b[0;34m(\u001b[0m\u001b[0;34m)\u001b[0m\u001b[0;34m,\u001b[0m\u001b[0;34m'TUID'\u001b[0m\u001b[0;34m)\u001b[0m\u001b[0;34m\u001b[0m\u001b[0;34m\u001b[0m\u001b[0m\n\u001b[0m\u001b[1;32m      2\u001b[0m \u001b[0;31m# df.head()\u001b[0m\u001b[0;34m\u001b[0m\u001b[0;34m\u001b[0m\u001b[0;34m\u001b[0m\u001b[0m\n",
      "\u001b[0;31mTypeError\u001b[0m: 'numpy.ndarray' object is not callable"
     ]
    }
   ],
   "source": [
    "df_ss.loc(df['SUID'].to_numpy(),'TUID')\n",
    "# df.head()"
   ]
  },
  {
   "cell_type": "code",
   "execution_count": null,
   "metadata": {},
   "outputs": [],
   "source": []
  }
 ],
 "metadata": {
  "kernelspec": {
   "display_name": "Python 3",
   "language": "python",
   "name": "python3"
  },
  "language_info": {
   "codemirror_mode": {
    "name": "ipython",
    "version": 3
   },
   "file_extension": ".py",
   "mimetype": "text/x-python",
   "name": "python",
   "nbconvert_exporter": "python",
   "pygments_lexer": "ipython3",
   "version": "3.7.6"
  }
 },
 "nbformat": 4,
 "nbformat_minor": 4
}
