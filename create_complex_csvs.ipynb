{
 "cells": [
  {
   "cell_type": "code",
   "execution_count": 1,
   "metadata": {},
   "outputs": [],
   "source": [
    "import pandas as pd\n",
    "import numpy as np\n",
    "import matplotlib.pyplot as plt\n",
    "import datetime\n",
    "import wrangle_data as wd\n",
    "\n",
    "%matplotlib inline"
   ]
  },
  {
   "cell_type": "code",
   "execution_count": 2,
   "metadata": {},
   "outputs": [],
   "source": [
    "df = wd.run('2020-05-02', '2020-06-27')\n",
    "df_c = wd.merge_complex(df)"
   ]
  },
  {
   "cell_type": "code",
   "execution_count": 3,
   "metadata": {},
   "outputs": [],
   "source": [
    "#ggregate by complex id and date\n",
    "df_daily = wd.agg_by(df_c, 'date', 'complex')\n",
    "\n",
    "#create a turnstile count/complex column\n",
    "df_cc = df_c.groupby('complex_id')['tuid'].nunique().to_dict()\n",
    "df_daily['ts_count'] = df_daily.complex_id.map(df_cc)\n",
    "\n",
    "#calculate density\n",
    "df_daily['density'] = df_daily['traffic'] / df_daily['ts_count']\n",
    "\n",
    "#calculate average traffic and density figures for entire date range\n",
    "df_daily_avg = df_daily.groupby('complex_id')[['traffic', 'density']].mean()"
   ]
  },
  {
   "cell_type": "code",
   "execution_count": 12,
   "metadata": {},
   "outputs": [],
   "source": [
    "df_daily_avg['traffic'].to_csv(path_or_buf='complex_traffic.csv', index=True)\n",
    "df_daily_avg['density'].to_csv(path_or_buf='complex_density.csv', index=True)"
   ]
  },
  {
   "cell_type": "code",
   "execution_count": null,
   "metadata": {},
   "outputs": [],
   "source": []
  }
 ],
 "metadata": {
  "kernelspec": {
   "display_name": "Python 3",
   "language": "python",
   "name": "python3"
  },
  "language_info": {
   "codemirror_mode": {
    "name": "ipython",
    "version": 3
   },
   "file_extension": ".py",
   "mimetype": "text/x-python",
   "name": "python",
   "nbconvert_exporter": "python",
   "pygments_lexer": "ipython3",
   "version": "3.7.6"
  }
 },
 "nbformat": 4,
 "nbformat_minor": 4
}
